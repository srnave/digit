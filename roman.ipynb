{
 "cells": [
  {
   "cell_type": "code",
   "execution_count": 5,
   "metadata": {},
   "outputs": [
    {
     "name": "stdout",
     "output_type": "stream",
     "text": [
      "Found 5522 images belonging to 10 classes.\n",
      "Found 1373 images belonging to 10 classes.\n",
      "Epoch 1/10\n",
      "173/173 [==============================] - 30s 165ms/step - loss: 0.9391 - accuracy: 0.6858 - val_loss: 0.5549 - val_accuracy: 0.8143\n",
      "Epoch 2/10\n",
      "173/173 [==============================] - 24s 139ms/step - loss: 0.4357 - accuracy: 0.8520 - val_loss: 0.4117 - val_accuracy: 0.8529\n",
      "Epoch 3/10\n",
      "173/173 [==============================] - 33s 193ms/step - loss: 0.3196 - accuracy: 0.8937 - val_loss: 0.2853 - val_accuracy: 0.9039\n",
      "Epoch 4/10\n",
      "173/173 [==============================] - 34s 197ms/step - loss: 0.2567 - accuracy: 0.9104 - val_loss: 0.2475 - val_accuracy: 0.9177\n",
      "Epoch 5/10\n",
      "173/173 [==============================] - 31s 178ms/step - loss: 0.2023 - accuracy: 0.9265 - val_loss: 0.2318 - val_accuracy: 0.9264\n",
      "Epoch 6/10\n",
      "173/173 [==============================] - 34s 198ms/step - loss: 0.1758 - accuracy: 0.9397 - val_loss: 0.2201 - val_accuracy: 0.9243\n",
      "Epoch 7/10\n",
      "173/173 [==============================] - 34s 195ms/step - loss: 0.1480 - accuracy: 0.9473 - val_loss: 0.1594 - val_accuracy: 0.9476\n",
      "Epoch 8/10\n",
      "173/173 [==============================] - 33s 189ms/step - loss: 0.1447 - accuracy: 0.9538 - val_loss: 0.1875 - val_accuracy: 0.9388\n",
      "Epoch 9/10\n",
      "173/173 [==============================] - 28s 163ms/step - loss: 0.1235 - accuracy: 0.9553 - val_loss: 0.1717 - val_accuracy: 0.9374\n",
      "Epoch 10/10\n",
      "173/173 [==============================] - 24s 140ms/step - loss: 0.1106 - accuracy: 0.9623 - val_loss: 0.2270 - val_accuracy: 0.9279\n",
      "Found 985 images belonging to 10 classes.\n"
     ]
    },
    {
     "name": "stderr",
     "output_type": "stream",
     "text": [
      "c:\\Users\\srnav\\AppData\\Local\\Programs\\Python\\Python311\\Lib\\site-packages\\keras\\src\\engine\\training.py:3000: UserWarning: You are saving your model as an HDF5 file via `model.save()`. This file format is considered legacy. We recommend using instead the native Keras format, e.g. `model.save('my_model.keras')`.\n",
      "  saving_api.save_model(\n"
     ]
    }
   ],
   "source": [
    "# Import necessary libraries\n",
    "import os\n",
    "import numpy as np\n",
    "import tensorflow as tf\n",
    "from tensorflow.keras.models import Sequential\n",
    "from tensorflow.keras.layers import Conv2D, MaxPooling2D, Flatten, Dense\n",
    "from tensorflow.keras.preprocessing.image import ImageDataGenerator\n",
    "\n",
    "# Constants\n",
    "IMAGE_WIDTH, IMAGE_HEIGHT = 64, 64  # Set your desired image dimensions\n",
    "BATCH_SIZE = 32\n",
    "NUM_CLASSES = 10  # Roman numerals I to X\n",
    "\n",
    "# Data preprocessing and augmentation\n",
    "train_datagen = ImageDataGenerator(\n",
    "    rescale=1./255,\n",
    "    shear_range=0.2,\n",
    "    zoom_range=0.2,\n",
    "    horizontal_flip=True,\n",
    "    validation_split=0.2)  # 20% of the data will be used for validation\n",
    "\n",
    "train_generator = train_datagen.flow_from_directory(\n",
    "    'D:/CLG/SEM7/DIGITRECOGONITION/500_each_EMNIST-based-Roman/train',  # Provide the path to your training data\n",
    "    target_size=(IMAGE_WIDTH, IMAGE_HEIGHT),\n",
    "    batch_size=BATCH_SIZE,\n",
    "    class_mode='categorical',\n",
    "    subset='training')  # Specify this is the training set\n",
    "\n",
    "validation_generator = train_datagen.flow_from_directory(\n",
    "    'D:/CLG/SEM7/DIGITRECOGONITION/500_each_EMNIST-based-Roman/train',  # Provide the same path to your training data\n",
    "    target_size=(IMAGE_WIDTH, IMAGE_HEIGHT),\n",
    "    batch_size=BATCH_SIZE,\n",
    "    class_mode='categorical',\n",
    "    subset='validation')  # Specify this is the validation set\n",
    "\n",
    "# Build the CNN model\n",
    "model = Sequential()\n",
    "model.add(Conv2D(32, (3, 3), input_shape=(IMAGE_WIDTH, IMAGE_HEIGHT, 3), activation='relu'))\n",
    "model.add(MaxPooling2D(pool_size=(2, 2)))\n",
    "model.add(Conv2D(64, (3, 3), activation='relu'))\n",
    "model.add(MaxPooling2D(pool_size=(2, 2)))\n",
    "model.add(Flatten())\n",
    "model.add(Dense(128, activation='relu'))\n",
    "model.add(Dense(NUM_CLASSES, activation='softmax'))  # Output layer with 10 classes\n",
    "\n",
    "# Compile the model\n",
    "model.compile(optimizer='adam', loss='categorical_crossentropy', metrics=['accuracy'])\n",
    "\n",
    "# Train the model\n",
    "model.fit(train_generator, epochs=10, validation_data=validation_generator)\n",
    "\n",
    "# Save the model for future use\n",
    "model.save('roman_numeral_model.h5')  # Save the model to a file\n",
    "\n",
    "# Evaluate accuracy on test data (assuming you have a separate test dataset)\n",
    "test_datagen = ImageDataGenerator(rescale=1./255)\n",
    "test_generator = test_datagen.flow_from_directory(\n",
    "    'D:/CLG/SEM7/DIGITRECOGONITION/500_each_EMNIST-based-Roman/test',  # Provide the path to your test data\n",
    "    target_size=(IMAGE_WIDTH, IMAGE_HEIGHT),\n",
    "    batch_size=BATCH_SIZE,\n",
    "    class_mode='categorical',\n",
    "    shuffle=False)  # Important: Do not shuffle the test data\n",
    "\n",
    "# Perform predictions on new data\n",
    "# Load the saved model\n",
    "# loaded_model = tf.keras.models.load_model('roman_numeral_model.h5')\n",
    "\n",
    "# Example: Predict a single image\n"
   ]
  },
  {
   "cell_type": "code",
   "execution_count": 6,
   "metadata": {},
   "outputs": [
    {
     "name": "stdout",
     "output_type": "stream",
     "text": [
      "31/31 [==============================] - 2s 57ms/step - loss: 0.2444 - accuracy: 0.9259\n",
      "Test Accuracy: 92.59%\n",
      "Test Loss: 0.24%\n"
     ]
    }
   ],
   "source": [
    "\n",
    "test_loss, test_accuracy = model.evaluate(test_generator)\n",
    "print(f'Test Accuracy: {test_accuracy * 100:.2f}%')\n",
    "print(f'Test Loss: {test_loss:.2f}%')\n"
   ]
  },
  {
   "cell_type": "code",
   "execution_count": 7,
   "metadata": {},
   "outputs": [
    {
     "name": "stdout",
     "output_type": "stream",
     "text": [
      "173/173 [==============================] - 14s 81ms/step - loss: 0.1376 - accuracy: 0.9509\n",
      "Train Accuracy: 95.09%\n",
      "Train Loss: 0.14%\n"
     ]
    }
   ],
   "source": [
    "\n",
    "train_loss, train_accuracy = model.evaluate(train_generator)\n",
    "print(f'Train Accuracy: {train_accuracy * 100:.2f}%')\n",
    "print(f'Train Loss: {train_loss :.2f}%')\n"
   ]
  },
  {
   "cell_type": "code",
   "execution_count": 11,
   "metadata": {},
   "outputs": [
    {
     "name": "stdout",
     "output_type": "stream",
     "text": [
      "1/1 [==============================] - 0s 49ms/step\n",
      "Predicted Roman Numeral: 5\n"
     ]
    }
   ],
   "source": [
    "new_image_path = 'D:/CLG/SEM7/DIGITRECOGONITION/500_each_EMNIST-based-Roman/train/5/5_cap_1.png'  # Provide the path to the new image\n",
    "new_image = tf.keras.preprocessing.image.load_img(new_image_path, target_size=(IMAGE_WIDTH, IMAGE_HEIGHT))\n",
    "new_image_array = tf.keras.preprocessing.image.img_to_array(new_image)\n",
    "new_image_array = np.expand_dims(new_image_array, axis=0)  # Add batch dimension\n",
    "new_image_array /= 255.0  # Normalize pixel values\n",
    "\n",
    "# Make predictions\n",
    "predictions = loaded_model.predict(new_image_array)\n",
    "predicted_class = np.argmax(predictions, axis=1)[0]\n",
    "print(f'Predicted Roman Numeral: {predicted_class+0}')  # Adding 1 to "
   ]
  },
  {
   "cell_type": "code",
   "execution_count": 9,
   "metadata": {},
   "outputs": [],
   "source": [
    "loaded_model = tf.keras.models.load_model('roman_numeral_model.h5')"
   ]
  }
 ],
 "metadata": {
  "kernelspec": {
   "display_name": "Python 3",
   "language": "python",
   "name": "python3"
  },
  "language_info": {
   "codemirror_mode": {
    "name": "ipython",
    "version": 3
   },
   "file_extension": ".py",
   "mimetype": "text/x-python",
   "name": "python",
   "nbconvert_exporter": "python",
   "pygments_lexer": "ipython3",
   "version": "3.11.5"
  }
 },
 "nbformat": 4,
 "nbformat_minor": 2
}
